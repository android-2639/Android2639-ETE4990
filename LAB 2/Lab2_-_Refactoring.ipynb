{
 "cells": [
  {
   "cell_type": "markdown",
   "id": "0209af47-6b8d-4f34-8292-aa79deef5088",
   "metadata": {},
   "source": [
    "# Lab 2 - Refactoring\n",
    "## Refactoring is:\n",
    "\n",
    "Refactoring is the process of restructuring or rewriting code, while not changing its original functionality. The goal of refactoring is to improve internal code by making many small changes without altering the code's external behavior. \n",
    "\n",
    "It is easier said than done. "
   ]
  },
  {
   "cell_type": "markdown",
   "id": "f470981d-7433-42f0-a742-a9ddeae57056",
   "metadata": {},
   "source": [
    "### Part 1 - Warm up\n",
    "\n",
    "You will refactor the following code:"
   ]
  },
  {
   "cell_type": "code",
   "execution_count": 9,
   "id": "b817e22e-46ae-4dfe-9a38-c3d3e818168b",
   "metadata": {},
   "outputs": [
    {
     "name": "stdout",
     "output_type": "stream",
     "text": [
      "Enter a number: 1\n",
      "5 is more than 1\n"
     ]
    }
   ],
   "source": [
    "#stolen from https://realpython.com/python-refactoring/\n",
    "#yes you can go there and look at what they did no do it yourself\n",
    "x = 5\n",
    "value = input(\"Enter a number: \")\n",
    "y = int(value)\n",
    "if x < y:\n",
    "    print(f\"{x} is less than {y}\")\n",
    "elif x == y:\n",
    "    print(f\"{x} is equal to {y}\")\n",
    "else:\n",
    "    print(f\"{x} is more than {y}\")"
   ]
  },
  {
   "cell_type": "code",
   "execution_count": 10,
   "id": "777295ac",
   "metadata": {},
   "outputs": [
    {
     "name": "stdout",
     "output_type": "stream",
     "text": [
      "Enter a number: 1\n",
      "5 is more than 1\n"
     ]
    }
   ],
   "source": [
    "x = 5\n",
    "y = int(input(\"Enter a number: \"))\n",
    "if x < y:\n",
    "    print(x,\"is less than\",y)\n",
    "elif x is y:\n",
    "    print(x,\"is equal to\",y)\n",
    "else:\n",
    "    print(x,\"is more than\",y)"
   ]
  },
  {
   "cell_type": "markdown",
   "id": "bb9edc37-9bd7-4b4a-8ec1-d1465d85be37",
   "metadata": {},
   "source": [
    "## Part 2\n",
    "Refactor Lab 1 into a function that can be used over and over again"
   ]
  },
  {
   "cell_type": "code",
   "execution_count": 91,
   "id": "733c4d16-c02c-4058-9cb6-4b751c86dc93",
   "metadata": {},
   "outputs": [],
   "source": [
    "def Five_Dice_RNG(Dice_Range):\n",
    "    \n",
    "    Dice_One = random.randint(1,6) #Generating a random number without using a function call and instead straight generating and assigning it to DICE_ONE\n",
    "    Dice_Two = random.randint(1,6) #Generate a random number using the function we declared earlier in the program\n",
    "    Dice_Three = random.choice(Dice_Range) #Generate a random number from out Dice_list by having a random index chosen\n",
    "\n",
    "    random.shuffle(Dice_Range) #shuffles dice list\n",
    "    Dice_Four = random.choice(Dice_Range) #same idea as choosing a random choice from the list, now instead we take a random choice from a now random sorted list\n",
    "    random.shuffle(Dice_Range)\n",
    "    Dice_Five = round((random.randint(1,6) + random.choice(Dice_Range) + random.randint(1,6)) / 3)\n",
    "\n",
    "    return Dice_One + Dice_Two + Dice_Three + Dice_Four + Dice_Five"
   ]
  },
  {
   "cell_type": "code",
   "execution_count": 136,
   "id": "4959d586",
   "metadata": {},
   "outputs": [],
   "source": [
    "def Print_Stats(Game_Stat_List,Format_List):\n",
    "    Stat_Counter = 0\n",
    "    for i in Format_List:\n",
    "        print(i,\" = \", Game_Stat_List[Stat_Counter])\n",
    "        #print(Game_Stat_List[Stat_Counter])\n",
    "        Stat_Counter = Stat_Counter + 1"
   ]
  },
  {
   "cell_type": "code",
   "execution_count": 137,
   "id": "de0bdf82",
   "metadata": {},
   "outputs": [],
   "source": [
    "def Attack_Outcomes(Dice_Total, Monster_Health, User_Health, Dice_Range):\n",
    "    if Dice_Total <= 5:\n",
    "        print(\"\\nWow, you completely dropped the ball... You draw your rusted claymore and prepare your uber mighty triple slash, \"\n",
    "              \"but as you\\napproach the evil monster you trip fall and impale yourself not just once but three times... Take 50 \"\n",
    "              \"damage to your health\\npoints & lose initiative.\")\n",
    "        User_Health = User_Health - 50\n",
    "        Game_Stat_List[0] = Game_Stat_List[0] + 1\n",
    "    elif Dice_Total > 5 and Dice_Total <= 10:\n",
    "        print(\"\\nYou draw your claymore, approach the monster and deliever a slash on the monster, monster notices your attack at\"\n",
    "              \"the last second and avoids your slash.\")\n",
    "        Game_Stat_List[1] = Game_Stat_List[1] + 1\n",
    "    elif Dice_Total > 10 and Dice_Total <= 15:\n",
    "        print(\"\\nYou draw your claymore, approach the monster and deliever a slash on the monster, the monster's reaction is too \"\n",
    "              \"slow for your\\nslash and is slashed. Deal damage equivalent to your Dice Total subtracted from a D6 roll from the \"\n",
    "              \"monster, to the monster.\")\n",
    "        Monster_Health = Monster_Health - (Dice_Total - random.choice(Dice_Range))\n",
    "        Game_Stat_List[2] = Game_Stat_List[2] + 1\n",
    "    elif Dice_Total > 15 and Dice_Total <= 20:\n",
    "        print(\"\\nYou draw your claymore, approach the monster and deliever a slash on the monster, the monster's reaction is too \"\n",
    "              \"slow for your\\nslash and is slashed. Deal damage equivalent to your Dice Total to the monster.\")\n",
    "        Monster_Health = Monster_Health - Dice_Total\n",
    "        Game_Stat_List[3] = Game_Stat_List[3] + 1\n",
    "    elif Dice_Total > 20 and Dice_Total <= 25:\n",
    "        print(\"\\nYou draw your silver claymore enriched with silver metal to combat monsters, approach the monster and deliever \"\n",
    "              \"strong slash on the monster, the monster's reaction is too slow for your slash and and sustains a heavy hit. \"\n",
    "              \"Deal damage equivalent to your\\nDice Total times 1.25 to the monster.\")\n",
    "        Monster_Health = Monster_Health - (Dice_Total*1.25)\n",
    "        Game_Stat_List[4] = Game_Stat_List[4] + 1\n",
    "    else:\n",
    "        print(\"\\nYou draw your silver enchanted claymore, approach the monster and uber mighty strong triple slash\\non the \"\n",
    "              \"monster, the monster caught completely off guard takes the full brunt of the three hits and sustains heavy damage.\"\n",
    "              \"Deal damage equivalent to your\\nDice Total times 3 to the monster.\")\n",
    "        Monster_Health = Monster_Health - (Dice_Total*3)\n",
    "        Game_Stat_List[5] = Game_Stat_List[5] + 1\n",
    "    if Monster_Health - Dice_Total <= 0:\n",
    "        print(\"\\nThe monster unable to take the brunt of your attack is instantly killed and falls in a heap onto the ground\")\n",
    "    if User_Health <= 0:\n",
    "        print(\"\\nMission failed bois we'll get them next time!\")"
   ]
  },
  {
   "cell_type": "code",
   "execution_count": 138,
   "id": "10ffd16d",
   "metadata": {},
   "outputs": [],
   "source": [
    "def Play_Again():\n",
    "    Try_Again = str(input(\"\\nWould you like to try again? (Y or N): \"))\n",
    "    \n",
    "    while Try_Again != \"Y\" and Try_Again != \"N\":\n",
    "            Try_Again = str(input(\"Invalid Input, Expecting (Y or N) Please Try Again: \"))\n",
    "            \n",
    "    if Try_Again == \"Y\":\n",
    "                return True\n",
    "    elif Try_Again == \"N\":\n",
    "                return False\n",
    "                \n",
    "    print(\"\\n\")"
   ]
  },
  {
   "cell_type": "code",
   "execution_count": 140,
   "id": "9a614250",
   "metadata": {},
   "outputs": [
    {
     "name": "stdout",
     "output_type": "stream",
     "text": [
      "\n",
      "You draw your claymore, approach the monster and deliever a slash on the monster, the monster's reaction is too slow for your\n",
      "slash and is slashed. Deal damage equivalent to your Dice Total subtracted from a D6 roll from the monster, to the monster.\n",
      "\n",
      "Would you like to try again? (Y or N): Y\n",
      "\n",
      "You draw your claymore, approach the monster and deliever a slash on the monster, the monster's reaction is too slow for your\n",
      "slash and is slashed. Deal damage equivalent to your Dice Total subtracted from a D6 roll from the monster, to the monster.\n",
      "\n",
      "Would you like to try again? (Y or N): N\n",
      "| 1-5 |  =  0\n",
      "| 6-10|  =  0\n",
      "|11-15|  =  2\n",
      "|16-20|  =  0\n",
      "|21-25|  =  0\n",
      "|26-30|  =  0\n"
     ]
    }
   ],
   "source": [
    "import random\n",
    "\n",
    "Format_List = [\"| 1-5 |\", \"| 6-10|\", \"|11-15|\", \"|16-20|\", \"|21-25|\", \"|26-30|\"]\n",
    "\n",
    "Game_Stat_List = [ 0, 0, 0, 0, 0, 0 ]\n",
    "\n",
    "Dice_Range = [1,2,3,4,5,6]\n",
    "\n",
    "Continue = True\n",
    "\n",
    "Monster_HP = 70\n",
    "User_HP = 50\n",
    "\n",
    "while Continue is True:\n",
    "    Attack_Outcomes(Five_Dice_RNG(Dice_Range),Monster_HP,User_HP,Dice_Range)\n",
    "    Continue = Play_Again()\n",
    "    \n",
    "Print_Stats(Game_Stat_List,Format_List)"
   ]
  },
  {
   "cell_type": "markdown",
   "id": "e589c6c8-f937-47e0-8db2-a37e03c12336",
   "metadata": {},
   "source": [
    "## Part 3 \n",
    "\n",
    "# But first a preview.... \n",
    "# Project #1  WIP This will change... \n",
    "\n",
    "You are project is to create a text based video game player profile, invintory system, and combat system. You must create a realistic player with at least 10 invintory items. Each item must have a discription and a trate assosiated with it. Have fun with this. \n",
    "\n",
    "You must use all items covered thus far (files (read and write), json, operators, lists, tuples(optional), functions, modules and classes)\n",
    "    \n",
    "- The adventure game should have the option to choose your player type\n",
    "  - Upon choosing your player type player atributes must be set ie wizard magic = 10, knight magic = 0 \n",
    "- Write a function to display the invintory of the player. \n",
    "- Write a function to get more detail on an item in the invintory.\n",
    "  - Knife \"forged in the depths of polymar\", +5 magic, edged weapon, one handed etc \n",
    "      - bonus points for calculating bonuses to wepons when equiping and dequiping \n",
    "- Write a function to add and remove items from the invintory\n",
    "- Ensure I am able to close the program and reload the character (ie files)\n",
    "    \n",
    "\n"
   ]
  },
  {
   "cell_type": "markdown",
   "id": "1fe3ba5e-722b-4ed8-b36f-c9ebd718bd7d",
   "metadata": {},
   "source": [
    "# Project 1 - Part 1\n",
    "Spend time planning out your code. You may work with your partner to plan out your code. How would you like your game to play? \n",
    "\n",
    "Use a UML planner like: \n",
    "\n",
    "\n",
    "https://miro.com/\n"
   ]
  },
  {
   "cell_type": "code",
   "execution_count": null,
   "id": "3bdce5be-0a31-4cf9-ba17-0f5be8cefc33",
   "metadata": {},
   "outputs": [],
   "source": []
  }
 ],
 "metadata": {
  "kernelspec": {
   "display_name": "Python 3 (ipykernel)",
   "language": "python",
   "name": "python3"
  },
  "language_info": {
   "codemirror_mode": {
    "name": "ipython",
    "version": 3
   },
   "file_extension": ".py",
   "mimetype": "text/x-python",
   "name": "python",
   "nbconvert_exporter": "python",
   "pygments_lexer": "ipython3",
   "version": "3.11.5"
  }
 },
 "nbformat": 4,
 "nbformat_minor": 5
}
